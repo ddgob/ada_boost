{
 "cells": [
  {
   "cell_type": "markdown",
   "metadata": {},
   "source": [
    "# Introduction"
   ]
  },
  {
   "cell_type": "markdown",
   "metadata": {},
   "source": [
    "In this project we will implement the Adaboost machine learning model using decision stumps as our weak learner."
   ]
  },
  {
   "cell_type": "markdown",
   "metadata": {},
   "source": [
    "# Setup"
   ]
  },
  {
   "cell_type": "markdown",
   "metadata": {},
   "source": [
    "## Importing necessary libraries"
   ]
  },
  {
   "cell_type": "code",
   "execution_count": 2,
   "metadata": {},
   "outputs": [],
   "source": [
    "import pandas as pd\n",
    "import numpy as np\n",
    "import matplotlib.pyplot as plt\n",
    "from sklearn.model_selection import KFold\n",
    "from matplotlib.ticker import FuncFormatter\n",
    "import pickle"
   ]
  },
  {
   "cell_type": "markdown",
   "metadata": {},
   "source": [
    "## Loading dataset"
   ]
  },
  {
   "cell_type": "markdown",
   "metadata": {},
   "source": [
    "Here we will create a pandas Dataframe with all the data"
   ]
  },
  {
   "cell_type": "code",
   "execution_count": 3,
   "metadata": {},
   "outputs": [
    {
     "data": {
      "text/html": [
       "<div>\n",
       "<style scoped>\n",
       "    .dataframe tbody tr th:only-of-type {\n",
       "        vertical-align: middle;\n",
       "    }\n",
       "\n",
       "    .dataframe tbody tr th {\n",
       "        vertical-align: top;\n",
       "    }\n",
       "\n",
       "    .dataframe thead th {\n",
       "        text-align: right;\n",
       "    }\n",
       "</style>\n",
       "<table border=\"1\" class=\"dataframe\">\n",
       "  <thead>\n",
       "    <tr style=\"text-align: right;\">\n",
       "      <th></th>\n",
       "      <th>tl</th>\n",
       "      <th>tm</th>\n",
       "      <th>tr</th>\n",
       "      <th>ml</th>\n",
       "      <th>mm</th>\n",
       "      <th>mr</th>\n",
       "      <th>bl</th>\n",
       "      <th>bm</th>\n",
       "      <th>br</th>\n",
       "      <th>target</th>\n",
       "    </tr>\n",
       "  </thead>\n",
       "  <tbody>\n",
       "    <tr>\n",
       "      <th>0</th>\n",
       "      <td>x</td>\n",
       "      <td>x</td>\n",
       "      <td>x</td>\n",
       "      <td>x</td>\n",
       "      <td>o</td>\n",
       "      <td>o</td>\n",
       "      <td>x</td>\n",
       "      <td>o</td>\n",
       "      <td>o</td>\n",
       "      <td>positive</td>\n",
       "    </tr>\n",
       "    <tr>\n",
       "      <th>1</th>\n",
       "      <td>x</td>\n",
       "      <td>x</td>\n",
       "      <td>x</td>\n",
       "      <td>x</td>\n",
       "      <td>o</td>\n",
       "      <td>o</td>\n",
       "      <td>o</td>\n",
       "      <td>x</td>\n",
       "      <td>o</td>\n",
       "      <td>positive</td>\n",
       "    </tr>\n",
       "    <tr>\n",
       "      <th>2</th>\n",
       "      <td>x</td>\n",
       "      <td>x</td>\n",
       "      <td>x</td>\n",
       "      <td>x</td>\n",
       "      <td>o</td>\n",
       "      <td>o</td>\n",
       "      <td>o</td>\n",
       "      <td>o</td>\n",
       "      <td>x</td>\n",
       "      <td>positive</td>\n",
       "    </tr>\n",
       "    <tr>\n",
       "      <th>3</th>\n",
       "      <td>x</td>\n",
       "      <td>x</td>\n",
       "      <td>x</td>\n",
       "      <td>x</td>\n",
       "      <td>o</td>\n",
       "      <td>o</td>\n",
       "      <td>o</td>\n",
       "      <td>b</td>\n",
       "      <td>b</td>\n",
       "      <td>positive</td>\n",
       "    </tr>\n",
       "    <tr>\n",
       "      <th>4</th>\n",
       "      <td>x</td>\n",
       "      <td>x</td>\n",
       "      <td>x</td>\n",
       "      <td>x</td>\n",
       "      <td>o</td>\n",
       "      <td>o</td>\n",
       "      <td>b</td>\n",
       "      <td>o</td>\n",
       "      <td>b</td>\n",
       "      <td>positive</td>\n",
       "    </tr>\n",
       "    <tr>\n",
       "      <th>...</th>\n",
       "      <td>...</td>\n",
       "      <td>...</td>\n",
       "      <td>...</td>\n",
       "      <td>...</td>\n",
       "      <td>...</td>\n",
       "      <td>...</td>\n",
       "      <td>...</td>\n",
       "      <td>...</td>\n",
       "      <td>...</td>\n",
       "      <td>...</td>\n",
       "    </tr>\n",
       "    <tr>\n",
       "      <th>953</th>\n",
       "      <td>o</td>\n",
       "      <td>x</td>\n",
       "      <td>x</td>\n",
       "      <td>x</td>\n",
       "      <td>o</td>\n",
       "      <td>o</td>\n",
       "      <td>o</td>\n",
       "      <td>x</td>\n",
       "      <td>x</td>\n",
       "      <td>negative</td>\n",
       "    </tr>\n",
       "    <tr>\n",
       "      <th>954</th>\n",
       "      <td>o</td>\n",
       "      <td>x</td>\n",
       "      <td>o</td>\n",
       "      <td>x</td>\n",
       "      <td>x</td>\n",
       "      <td>o</td>\n",
       "      <td>x</td>\n",
       "      <td>o</td>\n",
       "      <td>x</td>\n",
       "      <td>negative</td>\n",
       "    </tr>\n",
       "    <tr>\n",
       "      <th>955</th>\n",
       "      <td>o</td>\n",
       "      <td>x</td>\n",
       "      <td>o</td>\n",
       "      <td>x</td>\n",
       "      <td>o</td>\n",
       "      <td>x</td>\n",
       "      <td>x</td>\n",
       "      <td>o</td>\n",
       "      <td>x</td>\n",
       "      <td>negative</td>\n",
       "    </tr>\n",
       "    <tr>\n",
       "      <th>956</th>\n",
       "      <td>o</td>\n",
       "      <td>x</td>\n",
       "      <td>o</td>\n",
       "      <td>o</td>\n",
       "      <td>x</td>\n",
       "      <td>x</td>\n",
       "      <td>x</td>\n",
       "      <td>o</td>\n",
       "      <td>x</td>\n",
       "      <td>negative</td>\n",
       "    </tr>\n",
       "    <tr>\n",
       "      <th>957</th>\n",
       "      <td>o</td>\n",
       "      <td>o</td>\n",
       "      <td>x</td>\n",
       "      <td>x</td>\n",
       "      <td>x</td>\n",
       "      <td>o</td>\n",
       "      <td>o</td>\n",
       "      <td>x</td>\n",
       "      <td>x</td>\n",
       "      <td>negative</td>\n",
       "    </tr>\n",
       "  </tbody>\n",
       "</table>\n",
       "<p>958 rows × 10 columns</p>\n",
       "</div>"
      ],
      "text/plain": [
       "    tl tm tr ml mm mr bl bm br    target\n",
       "0    x  x  x  x  o  o  x  o  o  positive\n",
       "1    x  x  x  x  o  o  o  x  o  positive\n",
       "2    x  x  x  x  o  o  o  o  x  positive\n",
       "3    x  x  x  x  o  o  o  b  b  positive\n",
       "4    x  x  x  x  o  o  b  o  b  positive\n",
       "..  .. .. .. .. .. .. .. .. ..       ...\n",
       "953  o  x  x  x  o  o  o  x  x  negative\n",
       "954  o  x  o  x  x  o  x  o  x  negative\n",
       "955  o  x  o  x  o  x  x  o  x  negative\n",
       "956  o  x  o  o  x  x  x  o  x  negative\n",
       "957  o  o  x  x  x  o  o  x  x  negative\n",
       "\n",
       "[958 rows x 10 columns]"
      ]
     },
     "execution_count": 3,
     "metadata": {},
     "output_type": "execute_result"
    }
   ],
   "source": [
    "column_names = [\n",
    "    \"tl\", \"tm\", \"tr\",\n",
    "    \"ml\", \"mm\", \"mr\",\n",
    "    \"bl\", \"bm\", \"br\",\n",
    "    \"target\"\n",
    "]\n",
    "\n",
    "data = pd.read_csv(\"tic-tac-toe.data\", header=None, names=column_names)\n",
    "\n",
    "data"
   ]
  },
  {
   "cell_type": "markdown",
   "metadata": {},
   "source": [
    "Here we will separate the features (X) and the targets (y)"
   ]
  },
  {
   "cell_type": "code",
   "execution_count": 4,
   "metadata": {},
   "outputs": [
    {
     "data": {
      "text/plain": [
       "array([['x', 'x', 'x', ..., 'x', 'o', 'o'],\n",
       "       ['x', 'x', 'x', ..., 'o', 'x', 'o'],\n",
       "       ['x', 'x', 'x', ..., 'o', 'o', 'x'],\n",
       "       ...,\n",
       "       ['o', 'x', 'o', ..., 'x', 'o', 'x'],\n",
       "       ['o', 'x', 'o', ..., 'x', 'o', 'x'],\n",
       "       ['o', 'o', 'x', ..., 'o', 'x', 'x']], dtype=object)"
      ]
     },
     "execution_count": 4,
     "metadata": {},
     "output_type": "execute_result"
    }
   ],
   "source": [
    "y = data['target']\n",
    "X = data.drop('target', axis=1).values\n",
    "\n",
    "X"
   ]
  },
  {
   "cell_type": "markdown",
   "metadata": {},
   "source": [
    "Now, let's convert the targets from positive and negative values to 1 and -1 values, respectively:"
   ]
  },
  {
   "cell_type": "code",
   "execution_count": 5,
   "metadata": {},
   "outputs": [
    {
     "data": {
      "text/plain": [
       "array([ 1,  1,  1,  1,  1,  1,  1,  1,  1,  1,  1,  1,  1,  1,  1,  1,  1,\n",
       "        1,  1,  1,  1,  1,  1,  1,  1,  1,  1,  1,  1,  1,  1,  1,  1,  1,\n",
       "        1,  1,  1,  1,  1,  1,  1,  1,  1,  1,  1,  1,  1,  1,  1,  1,  1,\n",
       "        1,  1,  1,  1,  1,  1,  1,  1,  1,  1,  1,  1,  1,  1,  1,  1,  1,\n",
       "        1,  1,  1,  1,  1,  1,  1,  1,  1,  1,  1,  1,  1,  1,  1,  1,  1,\n",
       "        1,  1,  1,  1,  1,  1,  1,  1,  1,  1,  1,  1,  1,  1,  1,  1,  1,\n",
       "        1,  1,  1,  1,  1,  1,  1,  1,  1,  1,  1,  1,  1,  1,  1,  1,  1,\n",
       "        1,  1,  1,  1,  1,  1,  1,  1,  1,  1,  1,  1,  1,  1,  1,  1,  1,\n",
       "        1,  1,  1,  1,  1,  1,  1,  1,  1,  1,  1,  1,  1,  1,  1,  1,  1,\n",
       "        1,  1,  1,  1,  1,  1,  1,  1,  1,  1,  1,  1,  1,  1,  1,  1,  1,\n",
       "        1,  1,  1,  1,  1,  1,  1,  1,  1,  1,  1,  1,  1,  1,  1,  1,  1,\n",
       "        1,  1,  1,  1,  1,  1,  1,  1,  1,  1,  1,  1,  1,  1,  1,  1,  1,\n",
       "        1,  1,  1,  1,  1,  1,  1,  1,  1,  1,  1,  1,  1,  1,  1,  1,  1,\n",
       "        1,  1,  1,  1,  1,  1,  1,  1,  1,  1,  1,  1,  1,  1,  1,  1,  1,\n",
       "        1,  1,  1,  1,  1,  1,  1,  1,  1,  1,  1,  1,  1,  1,  1,  1,  1,\n",
       "        1,  1,  1,  1,  1,  1,  1,  1,  1,  1,  1,  1,  1,  1,  1,  1,  1,\n",
       "        1,  1,  1,  1,  1,  1,  1,  1,  1,  1,  1,  1,  1,  1,  1,  1,  1,\n",
       "        1,  1,  1,  1,  1,  1,  1,  1,  1,  1,  1,  1,  1,  1,  1,  1,  1,\n",
       "        1,  1,  1,  1,  1,  1,  1,  1,  1,  1,  1,  1,  1,  1,  1,  1,  1,\n",
       "        1,  1,  1,  1,  1,  1,  1,  1,  1,  1,  1,  1,  1,  1,  1,  1,  1,\n",
       "        1,  1,  1,  1,  1,  1,  1,  1,  1,  1,  1,  1,  1,  1,  1,  1,  1,\n",
       "        1,  1,  1,  1,  1,  1,  1,  1,  1,  1,  1,  1,  1,  1,  1,  1,  1,\n",
       "        1,  1,  1,  1,  1,  1,  1,  1,  1,  1,  1,  1,  1,  1,  1,  1,  1,\n",
       "        1,  1,  1,  1,  1,  1,  1,  1,  1,  1,  1,  1,  1,  1,  1,  1,  1,\n",
       "        1,  1,  1,  1,  1,  1,  1,  1,  1,  1,  1,  1,  1,  1,  1,  1,  1,\n",
       "        1,  1,  1,  1,  1,  1,  1,  1,  1,  1,  1,  1,  1,  1,  1,  1,  1,\n",
       "        1,  1,  1,  1,  1,  1,  1,  1,  1,  1,  1,  1,  1,  1,  1,  1,  1,\n",
       "        1,  1,  1,  1,  1,  1,  1,  1,  1,  1,  1,  1,  1,  1,  1,  1,  1,\n",
       "        1,  1,  1,  1,  1,  1,  1,  1,  1,  1,  1,  1,  1,  1,  1,  1,  1,\n",
       "        1,  1,  1,  1,  1,  1,  1,  1,  1,  1,  1,  1,  1,  1,  1,  1,  1,\n",
       "        1,  1,  1,  1,  1,  1,  1,  1,  1,  1,  1,  1,  1,  1,  1,  1,  1,\n",
       "        1,  1,  1,  1,  1,  1,  1,  1,  1,  1,  1,  1,  1,  1,  1,  1,  1,\n",
       "        1,  1,  1,  1,  1,  1,  1,  1,  1,  1,  1,  1,  1,  1,  1,  1,  1,\n",
       "        1,  1,  1,  1,  1,  1,  1,  1,  1,  1,  1,  1,  1,  1,  1,  1,  1,\n",
       "        1,  1,  1,  1,  1,  1,  1,  1,  1,  1,  1,  1,  1,  1,  1,  1,  1,\n",
       "        1,  1,  1,  1,  1,  1,  1,  1,  1,  1,  1,  1,  1,  1,  1,  1,  1,\n",
       "        1,  1,  1,  1,  1,  1,  1,  1,  1,  1,  1,  1,  1,  1, -1, -1, -1,\n",
       "       -1, -1, -1, -1, -1, -1, -1, -1, -1, -1, -1, -1, -1, -1, -1, -1, -1,\n",
       "       -1, -1, -1, -1, -1, -1, -1, -1, -1, -1, -1, -1, -1, -1, -1, -1, -1,\n",
       "       -1, -1, -1, -1, -1, -1, -1, -1, -1, -1, -1, -1, -1, -1, -1, -1, -1,\n",
       "       -1, -1, -1, -1, -1, -1, -1, -1, -1, -1, -1, -1, -1, -1, -1, -1, -1,\n",
       "       -1, -1, -1, -1, -1, -1, -1, -1, -1, -1, -1, -1, -1, -1, -1, -1, -1,\n",
       "       -1, -1, -1, -1, -1, -1, -1, -1, -1, -1, -1, -1, -1, -1, -1, -1, -1,\n",
       "       -1, -1, -1, -1, -1, -1, -1, -1, -1, -1, -1, -1, -1, -1, -1, -1, -1,\n",
       "       -1, -1, -1, -1, -1, -1, -1, -1, -1, -1, -1, -1, -1, -1, -1, -1, -1,\n",
       "       -1, -1, -1, -1, -1, -1, -1, -1, -1, -1, -1, -1, -1, -1, -1, -1, -1,\n",
       "       -1, -1, -1, -1, -1, -1, -1, -1, -1, -1, -1, -1, -1, -1, -1, -1, -1,\n",
       "       -1, -1, -1, -1, -1, -1, -1, -1, -1, -1, -1, -1, -1, -1, -1, -1, -1,\n",
       "       -1, -1, -1, -1, -1, -1, -1, -1, -1, -1, -1, -1, -1, -1, -1, -1, -1,\n",
       "       -1, -1, -1, -1, -1, -1, -1, -1, -1, -1, -1, -1, -1, -1, -1, -1, -1,\n",
       "       -1, -1, -1, -1, -1, -1, -1, -1, -1, -1, -1, -1, -1, -1, -1, -1, -1,\n",
       "       -1, -1, -1, -1, -1, -1, -1, -1, -1, -1, -1, -1, -1, -1, -1, -1, -1,\n",
       "       -1, -1, -1, -1, -1, -1, -1, -1, -1, -1, -1, -1, -1, -1, -1, -1, -1,\n",
       "       -1, -1, -1, -1, -1, -1, -1, -1, -1, -1, -1, -1, -1, -1, -1, -1, -1,\n",
       "       -1, -1, -1, -1, -1, -1, -1, -1, -1, -1, -1, -1, -1, -1, -1, -1, -1,\n",
       "       -1, -1, -1, -1, -1, -1, -1, -1, -1, -1, -1, -1, -1, -1, -1, -1, -1,\n",
       "       -1, -1, -1, -1, -1, -1])"
      ]
     },
     "execution_count": 5,
     "metadata": {},
     "output_type": "execute_result"
    }
   ],
   "source": [
    "mapping = {'positive': 1, 'negative': -1}\n",
    "\n",
    "y = y.map(mapping).values\n",
    "\n",
    "y"
   ]
  },
  {
   "cell_type": "markdown",
   "metadata": {},
   "source": [
    "## Spliting data for cross validation"
   ]
  },
  {
   "cell_type": "markdown",
   "metadata": {},
   "source": [
    "For this project we will use 5-Fold Cross Validation to compare what is the optimal number of weak learners for our Adaboost model. Below, we will create the 5 folds our data will be split into:"
   ]
  },
  {
   "cell_type": "code",
   "execution_count": 6,
   "metadata": {},
   "outputs": [],
   "source": [
    "folds_5 = KFold(n_splits=5, shuffle=True, random_state=1)"
   ]
  },
  {
   "cell_type": "markdown",
   "metadata": {},
   "source": [
    "# Creating the Decision Stump"
   ]
  },
  {
   "cell_type": "markdown",
   "metadata": {},
   "source": [
    "Here we will make the class that models the decision stumps:"
   ]
  },
  {
   "cell_type": "code",
   "execution_count": 7,
   "metadata": {},
   "outputs": [],
   "source": [
    "class DecisionStump:\n",
    "\tdef __init__(self):\n",
    "\t\tself.polarity = 1\n",
    "\t\tself.feature_column_number = None\n",
    "\t\tself.threshold = None\n",
    "\t\tself.alpha = None\n",
    "\n",
    "\tdef predict(self, features):\n",
    "\t\tdata_length = features.shape[0]\n",
    "\t\tfeature_column = features[:, self.feature_column_number]\n",
    "\t\toutputs = np.ones(data_length)\n",
    "\t\tif self.polarity == -1:\n",
    "\t\t\toutputs[feature_column != self.threshold] = -1\n",
    "\t\telse:\n",
    "\t\t\toutputs[feature_column == self.threshold] = -1\n",
    "\t\treturn outputs"
   ]
  },
  {
   "cell_type": "markdown",
   "metadata": {},
   "source": [
    "# Creating the Adaboost model"
   ]
  },
  {
   "cell_type": "markdown",
   "metadata": {},
   "source": [
    "Now we will create a class that will model the Adaboost model"
   ]
  },
  {
   "cell_type": "code",
   "execution_count": 8,
   "metadata": {},
   "outputs": [],
   "source": [
    "class AdaBoost:\n",
    "    def __init__(self, number_of_learners=None, model=None):\n",
    "        if model is not None:\n",
    "            self.number_of_learners = len(model)\n",
    "            self.model = model\n",
    "        elif number_of_learners is not None:\n",
    "            self.number_of_learners = number_of_learners\n",
    "            self.model = []\n",
    "        else:\n",
    "            raise ValueError(\"You must provide either number_of_learners or model\")\n",
    "\n",
    "    def caclulate_alpha(self, error):\n",
    "        INFINITESIMAL = 1e-10\n",
    "        return 0.5 * np.log((1.0 - error) / (error + INFINITESIMAL))\n",
    "    \n",
    "    def calculate_weights(self, learner, target, outputs, weights):\n",
    "        weights *= np.exp(-learner.alpha * target * outputs)\n",
    "        weights /= np.sum(weights)\n",
    "        return  weights\n",
    "\n",
    "    def select_best_learner(self, features, weights, target):\n",
    "        learner = DecisionStump()\n",
    "        best_learner_error = float('inf')\n",
    "        data_length = features.shape[0]\n",
    "        number_of_features = features.shape[1]\n",
    "        for feature_column_number in range(number_of_features):\n",
    "            feature_column = features[:, feature_column_number]\n",
    "            thresholds = np.unique(feature_column)\n",
    "            for threshold in thresholds:\n",
    "                polarity = 1\n",
    "                outputs = np.ones(data_length)\n",
    "                outputs[feature_column == threshold] = -1\n",
    "                learner_error = sum(weights[target != outputs])\n",
    "                if learner_error > 0.5:\n",
    "                    learner_error = 1 - learner_error\n",
    "                    polarity = -1\n",
    "                if learner_error < best_learner_error:\n",
    "                    learner.polarity = polarity\n",
    "                    learner.threshold = threshold\n",
    "                    learner.feature_column_number = feature_column_number\n",
    "                    best_learner_error = learner_error\n",
    "        return learner, best_learner_error\n",
    "    \n",
    "    def predict(self, features):\n",
    "        learner_outputs = [model.alpha * model.predict(features) for model in self.model]\n",
    "        model_output = np.sum(learner_outputs, axis=0)\n",
    "        model_output = np.sign(model_output)\n",
    "        return model_output\n",
    "    \n",
    "    def add_learner_to_model(self, features, target, weights):\n",
    "        best_learner, best_learner_error = self.select_best_learner(features, weights, target)\n",
    "        best_learner.alpha = self.caclulate_alpha(best_learner_error)\n",
    "        outputs = best_learner.predict(features)\n",
    "        weights = self.calculate_weights(best_learner, target, outputs, weights)\n",
    "        self.model.append(best_learner)\n",
    "        return weights\n",
    "    \n",
    "    def model_eval(self, features, target):\n",
    "        outputs = self.predict(features)\n",
    "        error = sum(outputs != target)\n",
    "        accuracy = 1 - (error / features.shape[0])\n",
    "        return error, accuracy\n",
    "\n",
    "    def fit(self, features, target):\n",
    "        if self.model:\n",
    "            raise ValueError(\"Model already trained\")\n",
    "        data_length = features.shape[0]\n",
    "        weights = np.full(data_length, (1 / data_length))\n",
    "        for _ in range(self.number_of_learners):\n",
    "            weights = self.add_learner_to_model(features, target, weights)\n",
    "        return self.model_eval(features, target)\n",
    "    \n",
    "    def get_number_of_learners(self):\n",
    "        return self.number_of_learners"
   ]
  },
  {
   "cell_type": "markdown",
   "metadata": {},
   "source": [
    "# Training and testing the models"
   ]
  },
  {
   "cell_type": "markdown",
   "metadata": {},
   "source": [
    "Here we will train models using 5-fold cross validation and simultaneosly test them. Will will do this for different numbers of weak learners to evaluate the which of them yield the optimal result."
   ]
  },
  {
   "cell_type": "code",
   "execution_count": 109,
   "metadata": {},
   "outputs": [
    {
     "name": "stdout",
     "output_type": "stream",
     "text": [
      "--> Running... <--\n",
      "#################### Model with 1 learners ####################\n",
      "Train Results --> Train Error: 230.40, Train Accuracy: 69.9374%\n",
      "Test Results --> Test Error: 57.60, Test Accuracy: 69.9373%\n",
      "#################### Model with 51 learners ####################\n",
      "Train Results --> Train Error: 125.80, Train Accuracy: 83.5851%\n",
      "Test Results --> Test Error: 33.80, Test Accuracy: 82.3555%\n",
      "#################### Model with 101 learners ####################\n",
      "Train Results --> Train Error: 69.80, Train Accuracy: 90.8924%\n",
      "Test Results --> Test Error: 20.80, Test Accuracy: 89.1405%\n",
      "#################### Model with 151 learners ####################\n",
      "Train Results --> Train Error: 25.20, Train Accuracy: 96.7116%\n",
      "Test Results --> Test Error: 9.20, Test Accuracy: 95.1952%\n",
      "#################### Model with 201 learners ####################\n",
      "Train Results --> Train Error: 14.20, Train Accuracy: 98.1472%\n",
      "Test Results --> Test Error: 4.80, Test Accuracy: 97.4935%\n",
      "#################### Model with 251 learners ####################\n",
      "Train Results --> Train Error: 13.40, Train Accuracy: 98.2517%\n",
      "Test Results --> Test Error: 3.60, Test Accuracy: 98.1206%\n",
      "#################### Model with 301 learners ####################\n",
      "Train Results --> Train Error: 12.80, Train Accuracy: 98.3298%\n",
      "Test Results --> Test Error: 3.40, Test Accuracy: 98.2248%\n",
      "#################### Model with 350 learners ####################\n",
      "Train Results --> Train Error: 13.20, Train Accuracy: 98.2777%\n",
      "Test Results --> Test Error: 3.20, Test Accuracy: 98.3295%\n",
      "--> Finished <--\n"
     ]
    }
   ],
   "source": [
    "learner_number_options = [i for i in range(1, 351)]\n",
    "mean_train_errors = []\n",
    "mean_train_accuracies = []\n",
    "mean_test_errors= []\n",
    "mean_test_accuracies = []\n",
    "print('--> Running... <--')\n",
    "for i, learner_option in enumerate(learner_number_options):\n",
    "    train_errors = []\n",
    "    train_accuracies = []\n",
    "    test_errors = []\n",
    "    test_accuracies = []\n",
    "    all_train_results = []\n",
    "    for train_indices, val_indices in folds_5.split(X):\n",
    "        features_train, features_valid = X[train_indices], X[val_indices]\n",
    "        targets_train, targets_valid = y[train_indices], y[val_indices]\n",
    "        model = AdaBoost(number_of_learners=learner_option)\n",
    "        train_error, train_accuracy = model.fit(features_train, targets_train)\n",
    "        train_errors.append(train_error)\n",
    "        train_accuracies.append(train_accuracy)\n",
    "        output = model.predict(features_valid)\n",
    "        test_error = sum(output != targets_valid)\n",
    "        test_errors.append(test_error)\n",
    "        test_accuracy = 1 - (test_error / features_valid.shape[0])\n",
    "        test_accuracies.append(test_accuracy)\n",
    "    mean_train_error = np.mean(train_errors)\n",
    "    mean_train_errors.append(mean_train_error)\n",
    "    mean_train_accuracy = np.mean(train_accuracies)\n",
    "    mean_train_accuracies.append(mean_train_accuracy)\n",
    "    mean_test_error = np.mean(test_errors)\n",
    "    mean_test_errors.append(mean_test_error)\n",
    "    mean_test_accuracy = np.mean(test_accuracies)\n",
    "    mean_test_accuracies.append(mean_test_accuracy)\n",
    "    # Print progress every 50 learners or at end\n",
    "    if i % 50 == 0 or i == len(learner_number_options) - 1:\n",
    "        print(f'#################### Model with {learner_option} learners ####################')\n",
    "        print(f'Train Results --> Train Error: {mean_train_error:.2f}, Train Accuracy: {(mean_train_accuracy * 100):.4f}%')\n",
    "        print(f'Test Results --> Test Error: {mean_test_error:.2f}, Test Accuracy: {(mean_test_accuracy * 100):.4f}%')\n",
    "print('--> Finished <--')\n",
    "# save mean test and train errors and accuracies to pickle file\n",
    "results = {\n",
    "    'learner_number_options': learner_number_options,\n",
    "    'mean_train_errors': mean_train_errors,\n",
    "    'mean_train_accuracies': mean_train_accuracies,\n",
    "    'mean_test_errors': mean_test_errors,\n",
    "    'mean_test_accuracies': mean_test_accuracies\n",
    "}\n",
    "with open('results/results.pkl', 'wb') as f:\n",
    "    pickle.dump(results, f)"
   ]
  },
  {
   "cell_type": "markdown",
   "metadata": {},
   "source": [
    "# Analysis"
   ]
  },
  {
   "cell_type": "markdown",
   "metadata": {},
   "source": [
    "Here we will analyze both training and test performance for the different models (different number of learners) and see how they compare. "
   ]
  },
  {
   "cell_type": "markdown",
   "metadata": {},
   "source": [
    "## Loading the results"
   ]
  },
  {
   "cell_type": "markdown",
   "metadata": {},
   "source": [
    "First we will load the results from training and testing:"
   ]
  },
  {
   "cell_type": "code",
   "execution_count": 9,
   "metadata": {},
   "outputs": [],
   "source": [
    "# load results dict from pickle file\n",
    "with open('results/results.pkl', 'rb') as f:\n",
    "    results = pickle.load(f)\n",
    "learner_number_options = results['learner_number_options']\n",
    "mean_train_errors = results['mean_train_errors']\n",
    "mean_train_accuracies = results['mean_train_accuracies']\n",
    "mean_test_errors = results['mean_test_errors']\n",
    "mean_test_accuracies = results['mean_test_accuracies']"
   ]
  },
  {
   "cell_type": "markdown",
   "metadata": {},
   "source": [
    "## Analyzing the mean train and test error"
   ]
  },
  {
   "cell_type": "markdown",
   "metadata": {},
   "source": [
    "Here we will compare the mean train and test error for the different models (different number of learners). Notice that we are using mean error and not simply error because that we used 5-fold cross validation."
   ]
  },
  {
   "cell_type": "code",
   "execution_count": 10,
   "metadata": {},
   "outputs": [
    {
     "data": {
      "image/png": "[encoded data removed]",
      "text/plain": [
       "<Figure size 640x480 with 1 Axes>"
      ]
     },
     "metadata": {},
     "output_type": "display_data"
    }
   ],
   "source": [
    "plt.plot(learner_number_options, mean_test_errors, label='Mean Test Error')\n",
    "plt.plot(learner_number_options, mean_train_errors, label='Mean Train Error')\n",
    "plt.xlabel('Number of Learners')\n",
    "plt.ylabel('Error')\n",
    "plt.title(f'Mean Error vs Number of Learners')\n",
    "plt.legend()\n",
    "plt.savefig('plots/error.png')\n",
    "plt.show()"
   ]
  },
  {
   "cell_type": "markdown",
   "metadata": {},
   "source": [
    "- Initial Phase of Learning:\n",
    "\n",
    "In the beginning, each additional learner (e.g., decision tree) has a significant impact on the model's performance. This is because the model starts from a relatively poor baseline, due to decision stumps being high in bias. For each new learner added, it can capture substantial patterns in the data that the previous ones missed, lowering the bias.\n",
    "\n",
    "- Diminishing Returns:\n",
    "\n",
    "As the number of learners increases, the model becomes more refined and captures most of the significant patterns in the data. At this point, each new learner has less room to improve the model's performance because the remaining errors are harder to correct and may be due to noise or inherent limitations in the data.\n",
    "\n",
    "- Convergence:\n",
    "\n",
    "Eventually, the model reaches a convergence point where adding more learners doesn't significantly improve the training error. The error plateaus because the model has learned as much as it can from the data given. This is because the inate simplicity of using weak learners such as decision stumps in adaboost models gives it a capacity that is not sufficient to memorize the data. This is not a disadvatage to the model, but it's a feature, given that it generalizes well.\n",
    "\n",
    "- Difference Between Test and Train Error:\n",
    "\n",
    "As you can see, the test error is lower than the train error. This is due to the smaller dataset on which the test error was calculated on. Below, we compare test and train error relative to the datasets they were calculated on for a more fair comparison."
   ]
  },
  {
   "cell_type": "markdown",
   "metadata": {},
   "source": [
    "## Analyzing the mean train and test accuracy"
   ]
  },
  {
   "cell_type": "markdown",
   "metadata": {},
   "source": [
    "Here we will compare the mean train and test accuracy for the different models (different number of learners). In contrast with the error metric, the accuracy metric will give us a better idea of how the model performance changes on unseen data. Again, we are using mean error and not simply error because we used 5-fold cross validation."
   ]
  },
  {
   "cell_type": "code",
   "execution_count": 11,
   "metadata": {},
   "outputs": [
    {
     "data": {
      "image/png": "[encoded data removed]",
      "text/plain": [
       "<Figure size 640x480 with 1 Axes>"
      ]
     },
     "metadata": {},
     "output_type": "display_data"
    }
   ],
   "source": [
    "def percentage_formatter(x, pos):\n",
    "    return f'{x:.0f}%'\n",
    "scaled_mean_train_accuracies = [acc * 100 for acc in mean_train_accuracies]\n",
    "scaled_mean_test_accuracies = [acc * 100 for acc in mean_test_accuracies]\n",
    "fig, ax = plt.subplots()\n",
    "ax.plot(learner_number_options, scaled_mean_test_accuracies, label='Mean Test Accuracy')\n",
    "ax.plot(learner_number_options, scaled_mean_train_accuracies, label='Mean Train Accuracy')\n",
    "ax.set_xlabel('Number of Learners')\n",
    "ax.set_ylabel('Accuracy')\n",
    "ax.set_title('Mean Accuracy vs Number of Learners')\n",
    "ax.legend()\n",
    "ax.yaxis.set_major_formatter(FuncFormatter(percentage_formatter))\n",
    "plt.savefig('plots/accuracy.png')\n",
    "plt.show()"
   ]
  },
  {
   "cell_type": "markdown",
   "metadata": {},
   "source": [
    "- Difference Between Test and Train Error:\n",
    "\n",
    "As expected, the model performance for the test data was lower than for the training data in general.\n",
    "\n",
    "- Convergence:\n",
    "\n",
    "As we can see, as the number of learners increase, the test and train error converge to the same accuracy, indicating that the model generalizes well for unseen data. This is a typical characteristic of adaboost models given that the use of weak learners avoids high variance and overfitting."
   ]
  },
  {
   "cell_type": "markdown",
   "metadata": {},
   "source": [
    "## Finding the best model"
   ]
  },
  {
   "cell_type": "markdown",
   "metadata": {},
   "source": [
    "Here we will find the best model, or in other words, what is the optimal number of learners:"
   ]
  },
  {
   "cell_type": "code",
   "execution_count": 12,
   "metadata": {},
   "outputs": [
    {
     "name": "stdout",
     "output_type": "stream",
     "text": [
      "##### Finding Best Results #####\n",
      "Best model number of learners: 269\n",
      "Best model mean error: 3.00\n",
      "Best model mean accuracy: 98.4342%\n"
     ]
    }
   ],
   "source": [
    "best_mean_test_error = min(mean_test_errors)\n",
    "best_learner_option_index = mean_test_errors.index(best_mean_test_error)\n",
    "best_learner_option = learner_number_options[best_learner_option_index]\n",
    "best_mean_test_accuracy = mean_test_accuracies[best_learner_option_index]\n",
    "print('##### Finding Best Results #####')\n",
    "print(f'Best model number of learners: {best_learner_option}')\n",
    "print(f'Best model mean error: {best_mean_test_error:.2f}')\n",
    "print(f'Best model mean accuracy: {(best_mean_test_accuracy * 100):.4f}%')"
   ]
  },
  {
   "cell_type": "markdown",
   "metadata": {},
   "source": [
    "- Performance:\n",
    "\n",
    "With a 98.4342% accuracy, we can see how the model has a very satisfactory performance while generalizing very well. \n",
    "\n",
    "- Convergence:\n",
    "\n",
    "As observed in the plots, with the increase of weak learners, the model performance converges to an optimal number of learners (269) well before adding the 350 learners that were intended intially."
   ]
  },
  {
   "cell_type": "markdown",
   "metadata": {},
   "source": [
    "# Final Results"
   ]
  },
  {
   "cell_type": "markdown",
   "metadata": {},
   "source": [
    "- In this project we divided the data using cross validation to compare different adaboost models to select the optimal number of weak learners. In doing so, we were also able to have more reliable estimates and maximize data utilization all due to the cross validation.\n",
    "\n",
    "- As we have seen from before, the model with best performance was the model with 269 decision stumps with an accuracy of 98.4342%. Although there were other models with the same performance, the decision model with 269 decision stumps was the least complex of them and had lower variance, therefore being the most desirable model.\n",
    "\n",
    "- The plots showed us that the train and test performance converged, indicating that the model generalized well with unseen data, which is due to the use of a collection of weak learners as explained below.\n",
    "\n",
    "- By using a collection of weak learners, the adaboost model has:\n",
    "    - Low variance and good generalization due to using weak learners\n",
    "    - Low bias through the use of many weak learners\n",
    "  In that sense, the adaboost model can have 'the best of both worlds'.\n",
    "\n",
    "- In conclusion, by leveraging a collection of weak learners, the AdaBoost model successfully balanced low variance and low bias, achieving optimal generalization and robustness. This highlights the effectiveness of AdaBoost in harnessing the strengths of weak learners to create a powerful and reliable predictive model."
   ]
  }
 ],
 "metadata": {
  "kernelspec": {
   "display_name": "Python 3",
   "language": "python",
   "name": "python3"
  },
  "language_info": {
   "codemirror_mode": {
    "name": "ipython",
    "version": 3
   },
   "file_extension": ".py",
   "mimetype": "text/x-python",
   "name": "python",
   "nbconvert_exporter": "python",
   "pygments_lexer": "ipython3",
   "version": "3.12.3"
  }
 },
 "nbformat": 4,
 "nbformat_minor": 2
}
